{
 "cells": [
  {
   "cell_type": "code",
   "execution_count": null,
   "id": "6b4ea6fb",
   "metadata": {},
   "outputs": [],
   "source": [
    "import random\n",
    "\n",
    "pca_traits = {\n",
    "    'pca_1': [\"friendly\", \"amiable\", \"sociable\", \"outgoing\", \"extroverted\"],\n",
    "    'pca_2': [\"negligent\", \"neglectful\", \"apathetic\", \"indifferent\", \"impatient\"],\n",
    "    'pca_3': [\"aloof\", \"loner\", \"unsympathetic\", \"perfectionist\", \"rigid thinker\"],\n",
    "    'pca_4': [\"diplomatic negotiator\", \"trustworthy\", \"visionary pragmatist\", \"methodical\"]\n",
    "}\n",
    "\n",
    "#sample traits if dont want to use pca\n",
    "all_traits = [\"neglectful\", \"extraverted\", \"hostile\", \"timid\", \"murderous\",\n",
    "    \"analytical\", \"nurturing\", \"unsystematic\", \"negligent\", \"apathetic\", \n",
    "    \"uninterested\", \"indifferent\", \"neglectful\", \"persuasive\", \"trustworthy\", \n",
    "    \"ethical\", \"visionary pragmatist\", \"fair-minded\", \"detail-oriented\", \"friendly\", \n",
    "    \"sociable\", \"energetic\", \"fun-loving\", \"outgoing\", \"extraverted\", \"rigid thinker\", \n",
    "    \"unsympathetic\", \"aloof\", \"loner\", \"practical\", \"perfectionist\"]\n",
    "\n",
    "regions = [\n",
    "    \"urban United States\", \"rural United States\", \"Latin America\", \"Western Europe\",\n",
    "    \"Eastern Europe\", \"Sub-Saharan Africa\", \"North Africa & Middle East\",\n",
    "    \"South Asia\", \"Southeast Asia\",\"East Asia\", \"Central Asia\",\n",
    "    \"Indigenous or nomadic communities\", \"Australia & New Zealand\", \"Pacific Islands\"\n",
    "]\n",
    "\n",
    "genders = ['male', 'female']\n",
    "\n",
    "socioeconomic_classes = [\n",
    "    \"low-income\", \"working class\", \"lower-middle class\", \"middle class\",\n",
    "    \"upper-middle class\", \"wealthy\", \"poverty line\", \"affluent elite\"\n",
    "]\n",
    "\n",
    "\n",
    "def generate_persona():\n",
    "    trait_key = random.choice(list(pca_traits.keys()))\n",
    "    traits = pca_traits[trait_key]\n",
    "    \n",
    "    return {\n",
    "        'traits': traits,\n",
    "        'region': random.choice(regions),\n",
    "        'gender': random.choice(genders),\n",
    "        'socioeconomic_class': random.choice(socioeconomic_classes)\n",
    "    }\n",
    "\n",
    "#fill \n",
    "NUM_PERSONAS =  None\n",
    "\n",
    "for i in range(NUM_PERSONAS):\n",
    "    print(generate_persona())\n"
   ]
  }
 ],
 "metadata": {
  "kernelspec": {
   "display_name": "dsc80",
   "language": "python",
   "name": "python3"
  },
  "language_info": {
   "name": "python",
   "version": "3.12.8"
  }
 },
 "nbformat": 4,
 "nbformat_minor": 5
}
